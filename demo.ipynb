{
 "cells": [
  {
   "cell_type": "code",
   "execution_count": 1,
   "metadata": {},
   "outputs": [],
   "source": [
    "%load_ext autoreload\n",
    "%autoreload 2\n",
    "%matplotlib inline"
   ]
  },
  {
   "cell_type": "code",
   "execution_count": 2,
   "metadata": {},
   "outputs": [],
   "source": [
    "# zfc.py       root module\n",
    "# knots.py     strings\n",
    "# scholar.py   read/write\n",
    "# rng.py       RNG\n",
    "# woodcut.py   printing"
   ]
  },
  {
   "cell_type": "code",
   "execution_count": 3,
   "metadata": {},
   "outputs": [],
   "source": [
    "from pyscripts.zfc import seq"
   ]
  },
  {
   "cell_type": "code",
   "execution_count": 4,
   "metadata": {},
   "outputs": [
    {
     "data": {
      "text/plain": [
       "array([1, 2, 3, 4, 5])"
      ]
     },
     "execution_count": 4,
     "metadata": {},
     "output_type": "execute_result"
    }
   ],
   "source": [
    "seq(1, 5)"
   ]
  },
  {
   "cell_type": "code",
   "execution_count": 5,
   "metadata": {},
   "outputs": [
    {
     "data": {
      "text/plain": [
       "array([1, 2, 3, 4])"
      ]
     },
     "execution_count": 5,
     "metadata": {},
     "output_type": "execute_result"
    }
   ],
   "source": [
    "seq(1, 5, incl=False)"
   ]
  },
  {
   "cell_type": "code",
   "execution_count": 6,
   "metadata": {},
   "outputs": [
    {
     "data": {
      "text/plain": [
       "array([1, 2, 3, 4, 5])"
      ]
     },
     "execution_count": 6,
     "metadata": {},
     "output_type": "execute_result"
    }
   ],
   "source": [
    "seq(1, 5.1)"
   ]
  },
  {
   "cell_type": "code",
   "execution_count": 7,
   "metadata": {},
   "outputs": [
    {
     "data": {
      "text/plain": [
       "array([ 1.1,  2.1,  3.1,  4.1])"
      ]
     },
     "execution_count": 7,
     "metadata": {},
     "output_type": "execute_result"
    }
   ],
   "source": [
    "seq(1.1, 5)"
   ]
  },
  {
   "cell_type": "code",
   "execution_count": 8,
   "metadata": {},
   "outputs": [
    {
     "data": {
      "text/plain": [
       "array([ 1. ,  2.1,  3.2,  4.3])"
      ]
     },
     "execution_count": 8,
     "metadata": {},
     "output_type": "execute_result"
    }
   ],
   "source": [
    "seq(1, 5, step=1.1)"
   ]
  },
  {
   "cell_type": "code",
   "execution_count": 9,
   "metadata": {},
   "outputs": [],
   "source": [
    "from pyscripts.zfc import weave"
   ]
  },
  {
   "cell_type": "code",
   "execution_count": 10,
   "metadata": {},
   "outputs": [],
   "source": [
    "a = seq(1,6)\n",
    "b = seq(100,97)"
   ]
  },
  {
   "cell_type": "code",
   "execution_count": 11,
   "metadata": {},
   "outputs": [
    {
     "data": {
      "text/plain": [
       "array([1, 100, 2, 99, 3, 98, 4, 97, 5, 6], dtype=object)"
      ]
     },
     "execution_count": 11,
     "metadata": {},
     "output_type": "execute_result"
    }
   ],
   "source": [
    "weave(a,b)"
   ]
  },
  {
   "cell_type": "code",
   "execution_count": 12,
   "metadata": {},
   "outputs": [
    {
     "data": {
      "text/plain": [
       "array([100, 1, 99, 2, 98, 3, 97, 4, 5, 6], dtype=object)"
      ]
     },
     "execution_count": 12,
     "metadata": {},
     "output_type": "execute_result"
    }
   ],
   "source": [
    "weave(b,a)"
   ]
  },
  {
   "cell_type": "code",
   "execution_count": 13,
   "metadata": {},
   "outputs": [],
   "source": [
    "from pyscripts.knots import chr_codes"
   ]
  },
  {
   "cell_type": "code",
   "execution_count": 14,
   "metadata": {},
   "outputs": [
    {
     "data": {
      "text/plain": [
       "array([97, 98, 99])"
      ]
     },
     "execution_count": 14,
     "metadata": {},
     "output_type": "execute_result"
    }
   ],
   "source": [
    "chr_codes('abc')"
   ]
  },
  {
   "cell_type": "code",
   "execution_count": 15,
   "metadata": {},
   "outputs": [
    {
     "data": {
      "text/plain": [
       "array([65, 66, 67])"
      ]
     },
     "execution_count": 15,
     "metadata": {},
     "output_type": "execute_result"
    }
   ],
   "source": [
    "chr_codes('ABC')"
   ]
  },
  {
   "cell_type": "code",
   "execution_count": 16,
   "metadata": {},
   "outputs": [
    {
     "data": {
      "text/plain": [
       "array([49, 50, 51])"
      ]
     },
     "execution_count": 16,
     "metadata": {},
     "output_type": "execute_result"
    }
   ],
   "source": [
    "chr_codes('123')"
   ]
  },
  {
   "cell_type": "code",
   "execution_count": 17,
   "metadata": {},
   "outputs": [],
   "source": [
    "from pyscripts.knots import extract_ext, strip_ext"
   ]
  },
  {
   "cell_type": "code",
   "execution_count": 18,
   "metadata": {},
   "outputs": [
    {
     "data": {
      "text/plain": [
       "'config'"
      ]
     },
     "execution_count": 18,
     "metadata": {},
     "output_type": "execute_result"
    }
   ],
   "source": [
    "strip_ext('config.txt')"
   ]
  },
  {
   "cell_type": "code",
   "execution_count": 19,
   "metadata": {},
   "outputs": [
    {
     "data": {
      "text/plain": [
       "'txt'"
      ]
     },
     "execution_count": 19,
     "metadata": {},
     "output_type": "execute_result"
    }
   ],
   "source": [
    "extract_ext('config.txt')"
   ]
  },
  {
   "cell_type": "code",
   "execution_count": 20,
   "metadata": {},
   "outputs": [],
   "source": [
    "from pyscripts.knots import os_path"
   ]
  },
  {
   "cell_type": "code",
   "execution_count": 21,
   "metadata": {},
   "outputs": [
    {
     "data": {
      "text/plain": [
       "'c:\\\\program files\\\\Git\\\\cmd'"
      ]
     },
     "execution_count": 21,
     "metadata": {},
     "output_type": "execute_result"
    }
   ],
   "source": [
    "os_path('c:\\\\program files//Git\\/\\cmd')"
   ]
  },
  {
   "cell_type": "code",
   "execution_count": 22,
   "metadata": {},
   "outputs": [],
   "source": [
    "from pyscripts.knots import str_replace"
   ]
  },
  {
   "cell_type": "code",
   "execution_count": 23,
   "metadata": {},
   "outputs": [
    {
     "data": {
      "text/plain": [
       "'? qui?k ?rown fox jumps over ? l?zy dog.'"
      ]
     },
     "execution_count": 23,
     "metadata": {},
     "output_type": "execute_result"
    }
   ],
   "source": [
    "str_replace('the quick brown fox jumps over the lazy dog.', replace_these=['a','b','c','the'], with_this='?')"
   ]
  },
  {
   "cell_type": "code",
   "execution_count": 24,
   "metadata": {},
   "outputs": [],
   "source": [
    "from pyscripts.scholar import dir_apply"
   ]
  },
  {
   "cell_type": "code",
   "execution_count": 25,
   "metadata": {
    "scrolled": false
   },
   "outputs": [
    {
     "data": {
      "text/plain": [
       "array(['c:\\\\git\\\\pyscripts\\\\hierarchy.txt',\n",
       "       'c:\\\\git\\\\pyscripts\\\\LICENSE.txt',\n",
       "       'c:\\\\git\\\\pyscripts\\\\requirements.txt',\n",
       "       'c:\\\\git\\\\pyscripts\\\\licenses\\\\my_license.txt',\n",
       "       'c:\\\\git\\\\pyscripts\\\\licenses\\\\stackoverflow.txt',\n",
       "       'c:\\\\git\\\\pyscripts\\\\licenses\\\\matplotlib\\\\LICENSE_enthought.txt',\n",
       "       'c:\\\\git\\\\pyscripts\\\\licenses\\\\matplotlib\\\\Solarized.txt',\n",
       "       'c:\\\\git\\\\pyscripts\\\\licenses\\\\numpy\\\\LICENSE.txt',\n",
       "       'c:\\\\git\\\\pyscripts\\\\licenses\\\\randomstate\\\\PCG-LICENSE.txt',\n",
       "       'c:\\\\git\\\\pyscripts\\\\licenses\\\\randomstate\\\\RANDOMKIT-LICENSE.txt',\n",
       "       'c:\\\\git\\\\pyscripts\\\\licenses\\\\scipy\\\\LICENSE.txt'], dtype=object)"
      ]
     },
     "execution_count": 25,
     "metadata": {},
     "output_type": "execute_result"
    }
   ],
   "source": [
    "dir_apply(os_path('c:/git/pyscripts'),\n",
    "          folder_filter = lambda x: x not in ['.git', '.idea', '__pycache__'],\n",
    "          file_filter = lambda x: x.endswith('.txt'))"
   ]
  },
  {
   "cell_type": "code",
   "execution_count": 26,
   "metadata": {},
   "outputs": [
    {
     "data": {
      "text/plain": [
       "array(['c:\\\\git\\\\pyscripts\\\\pyscripts\\\\bamboo.py',\n",
       "       'c:\\\\git\\\\pyscripts\\\\pyscripts\\\\commune.py',\n",
       "       'c:\\\\git\\\\pyscripts\\\\pyscripts\\\\henshin.py',\n",
       "       'c:\\\\git\\\\pyscripts\\\\pyscripts\\\\hero.py',\n",
       "       'c:\\\\git\\\\pyscripts\\\\pyscripts\\\\kaggle.py',\n",
       "       'c:\\\\git\\\\pyscripts\\\\pyscripts\\\\knots.py',\n",
       "       'c:\\\\git\\\\pyscripts\\\\pyscripts\\\\mytypes.py',\n",
       "       'c:\\\\git\\\\pyscripts\\\\pyscripts\\\\rng.py',\n",
       "       'c:\\\\git\\\\pyscripts\\\\pyscripts\\\\scholar.py',\n",
       "       'c:\\\\git\\\\pyscripts\\\\pyscripts\\\\scripts.py',\n",
       "       'c:\\\\git\\\\pyscripts\\\\pyscripts\\\\viz.py',\n",
       "       'c:\\\\git\\\\pyscripts\\\\pyscripts\\\\woodcut.py',\n",
       "       'c:\\\\git\\\\pyscripts\\\\pyscripts\\\\zfc.py',\n",
       "       'c:\\\\git\\\\pyscripts\\\\pyscripts\\\\__init__.py'], dtype=object)"
      ]
     },
     "execution_count": 26,
     "metadata": {},
     "output_type": "execute_result"
    }
   ],
   "source": [
    "dir_apply(os_path('c:/git/pyscripts'),\n",
    "          file_filter = lambda x: x.endswith('.py'))"
   ]
  },
  {
   "cell_type": "code",
   "execution_count": 27,
   "metadata": {},
   "outputs": [],
   "source": [
    "from pyscripts.rng import roll"
   ]
  },
  {
   "cell_type": "code",
   "execution_count": 28,
   "metadata": {},
   "outputs": [
    {
     "data": {
      "text/plain": [
       "(11, array([2, 4, 5]))"
      ]
     },
     "execution_count": 28,
     "metadata": {},
     "output_type": "execute_result"
    }
   ],
   "source": [
    "roll('3d6')"
   ]
  },
  {
   "cell_type": "code",
   "execution_count": 29,
   "metadata": {},
   "outputs": [
    {
     "data": {
      "text/plain": [
       "(7, array([5, 1, 1]))"
      ]
     },
     "execution_count": 29,
     "metadata": {},
     "output_type": "execute_result"
    }
   ],
   "source": [
    "roll('3d6')"
   ]
  },
  {
   "cell_type": "code",
   "execution_count": 30,
   "metadata": {},
   "outputs": [
    {
     "data": {
      "text/plain": [
       "(9, array([5, 2, 2]))"
      ]
     },
     "execution_count": 30,
     "metadata": {},
     "output_type": "execute_result"
    }
   ],
   "source": [
    "roll('3d6')"
   ]
  },
  {
   "cell_type": "code",
   "execution_count": 31,
   "metadata": {},
   "outputs": [],
   "source": [
    "from pyscripts.rng import r_ints, r_chrs, r_strings"
   ]
  },
  {
   "cell_type": "code",
   "execution_count": 32,
   "metadata": {},
   "outputs": [
    {
     "data": {
      "text/plain": [
       "array([46, 37, 84, 10, 24, 93, 79, 59,  3, 67])"
      ]
     },
     "execution_count": 32,
     "metadata": {},
     "output_type": "execute_result"
    }
   ],
   "source": [
    "r_ints(10, 1, 100)"
   ]
  },
  {
   "cell_type": "code",
   "execution_count": 33,
   "metadata": {},
   "outputs": [
    {
     "data": {
      "text/plain": [
       "array(['Q', 'Q', 'C', 'P', 'M'], dtype=object)"
      ]
     },
     "execution_count": 33,
     "metadata": {},
     "output_type": "execute_result"
    }
   ],
   "source": [
    "r_chrs(5)"
   ]
  },
  {
   "cell_type": "code",
   "execution_count": 34,
   "metadata": {},
   "outputs": [
    {
     "data": {
      "text/plain": [
       "array(['0P376VP', 'OGjEGnf4', 'lUaHu', 'jAcmV', '5sVvk97n'], dtype=object)"
      ]
     },
     "execution_count": 34,
     "metadata": {},
     "output_type": "execute_result"
    }
   ],
   "source": [
    "r_strings(5)"
   ]
  },
  {
   "cell_type": "code",
   "execution_count": 35,
   "metadata": {},
   "outputs": [
    {
     "data": {
      "text/plain": [
       "array(['Ot0', 'Dq2', 'Et6', 'Ai1', 'Xb6'], dtype=object)"
      ]
     },
     "execution_count": 35,
     "metadata": {},
     "output_type": "execute_result"
    }
   ],
   "source": [
    "r_strings(5, str_format = 'Aa6')"
   ]
  },
  {
   "cell_type": "code",
   "execution_count": 36,
   "metadata": {},
   "outputs": [],
   "source": [
    "from pyscripts.rng import permute, bootstrap"
   ]
  },
  {
   "cell_type": "code",
   "execution_count": 37,
   "metadata": {},
   "outputs": [],
   "source": [
    "x = seq(1,10)"
   ]
  },
  {
   "cell_type": "code",
   "execution_count": 38,
   "metadata": {},
   "outputs": [
    {
     "data": {
      "text/plain": [
       "array([ 6,  8,  3,  4,  7,  1,  2,  5, 10,  9])"
      ]
     },
     "execution_count": 38,
     "metadata": {},
     "output_type": "execute_result"
    }
   ],
   "source": [
    "permute(x)"
   ]
  },
  {
   "cell_type": "code",
   "execution_count": 39,
   "metadata": {},
   "outputs": [
    {
     "data": {
      "text/plain": [
       "array([ 4,  6,  4,  3,  7, 10,  5,  4, 10,  6])"
      ]
     },
     "execution_count": 39,
     "metadata": {},
     "output_type": "execute_result"
    }
   ],
   "source": [
    "bootstrap(x)"
   ]
  },
  {
   "cell_type": "code",
   "execution_count": 40,
   "metadata": {},
   "outputs": [],
   "source": [
    "from pyscripts.woodcut import printf"
   ]
  },
  {
   "cell_type": "code",
   "execution_count": 41,
   "metadata": {},
   "outputs": [
    {
     "name": "stdout",
     "output_type": "stream",
     "text": [
      "ABCdef000"
     ]
    }
   ],
   "source": [
    "printf('ABC')\n",
    "printf('def')\n",
    "printf('000')"
   ]
  },
  {
   "cell_type": "code",
   "execution_count": 42,
   "metadata": {},
   "outputs": [],
   "source": [
    "from pyscripts.woodcut import print_raw"
   ]
  },
  {
   "cell_type": "code",
   "execution_count": 43,
   "metadata": {},
   "outputs": [],
   "source": [
    "x = r_chrs(10 * 150).reshape(10,150)"
   ]
  },
  {
   "cell_type": "code",
   "execution_count": 44,
   "metadata": {},
   "outputs": [
    {
     "name": "stdout",
     "output_type": "stream",
     "text": [
      "WRVIEEXTJKKDRJIUVDSEUBRRWXESJHCGPNAJTHTJBQIHAHIIAQFDLGJGBMENBIMIPQLHIGZRETLIRTQWAGBIUFDQSNAEWGSVTJHGIXGSZBQQTUZWLUBUPCWDENQHVYIPVLWICQVOYQPTFFXJCZPYXV\n",
      "BBJWEGDEZUVBEEOHULCECOJNAACNOTMOJREUXYNZYOOLWGHJZCTTWJUGUTYOQEHHRQDOQQNDPKPUDCAAZJHUSYMVKTPOICBDOHHPYXYBCUJLYTVYJHMBZJKHVDGPFSFWBOZHJJUFZIOXAKJRWDJHQF\n",
      "QQNWQVPLVBOYUXSNTLIKIDEYMXOVQAFZZAKVBLGXSHAPFLCIHDAPAGYVZXUNXPXXMSMFJYPRKVLPZOLSNLMCBXLKSONADVFLGCDRTSKJXCWYPXWNHUVEHSVTSWHOHJQOSAKPVVIIVUZJPWRTJRJTLQ\n",
      "NMFGGHVUJJVRRISTAUHZRQJJLJNOAKCIKEXQVRSFRKZCSQAGTVKTJWGWTSBUFQUCWLHBMLBLNATERLLFSYQMGLHBZVBBBCNLOSZMEHXROPCHOTDAWMBGLCREZTRNFTGMVGVMEPGQNDMEFLYOECIFRH\n",
      "EQYHSPNBJLRAJVPCAWVGCHJRIJVKUKXNEFIRVKHXFFPIEFLEASJZAZULKEQDPQKOVKEJHNGFROUGHKLAHURJOYRHZNEYNWATFDHEWTQLTRHFCGQVPSSKYTSJSOVGFWVWSHYGORDEOWNJOCYZJJJBMC\n",
      "PKSOAQMDCIPBDNKMNGSUMBEEVLHUAJVHQQIPRNYCFYRDLIFAXLMWGVIZEBQJOXNMVZSUGJQVLPYHYZABOCXROKODDFIKEKADAJJVBNYCTGGWYQVXCDZIYMARFNNOXOJLOZYFGBIAZBWZVBICPOXTVF\n",
      "CTZVQNIKTMWDDHUAIEKYJXFPATWNQGWOICWLSVQYUYVYVQLCDUTLUCUZHNWETLCQHSFDJFBLATYBXREPSLFBJPHRQYWTNITJSLMLZEEBMOLMFWFNFCFCUWMWRRTFOISERDYRZYCTDUODNXFXMKEGGK\n",
      "XZHLUNMMEZQZMCAONWXMESCLOBPCWOGYKSDJBQRULQBAJDXERNNHHGODAHEBHPGLDAMXXHOMRHEQRVISAHHKWAPPSBJIGGELKVMNTCWHRCRMXGYHQOJNTCFEGHXFAREWAQLIBPUFZFMMKHJFBCZITM\n",
      "GZMIFXRNEOAEMVKGASAWFWVHJATPPXAEJXMETKRDEEUOBBCKHCRLEXYKKCDTKFPYCYRWCSAYNKIWVIFMKYGDAOIBZAVUWNBWRVQIVLWMBQNNLBTFGDULPNAKGZDDYMVSAHXNBOMREJUWVGVLLPGADR\n",
      "AQFMTDCKPYVDYOKIZOQIEAFLLRBLWNLCBBKYGBUBJOJCLWGPKYLAEARJVNNDMKDWWBLOXKQUHNFXKEYQSGFTKDVIESDOEXYFETTOWVXETUVUEWHAZETEYXLLWTNBOKUBEFUDCHCRGIWPTAHEMWILKW\n"
     ]
    }
   ],
   "source": [
    "print_raw(x)"
   ]
  },
  {
   "cell_type": "code",
   "execution_count": 45,
   "metadata": {},
   "outputs": [],
   "source": [
    "from pyscripts.woodcut import print_arr\n",
    "from pyscripts.zfc import numpy_vstack"
   ]
  },
  {
   "cell_type": "code",
   "execution_count": 46,
   "metadata": {},
   "outputs": [],
   "source": [
    "a = r_strings(10)\n",
    "b = r_ints(10, 1,100) / r_ints(10, 1,10)\n",
    "c = seq(1,10)"
   ]
  },
  {
   "cell_type": "code",
   "execution_count": 47,
   "metadata": {},
   "outputs": [],
   "source": [
    "x = numpy_vstack(a,b,c).T"
   ]
  },
  {
   "cell_type": "code",
   "execution_count": 48,
   "metadata": {},
   "outputs": [
    {
     "name": "stdout",
     "output_type": "stream",
     "text": [
      "8VxZ4p36   77.0      1\n",
      "bKA4Pdb     7.375    2\n",
      "Y2D9Pxb     2.285    3\n",
      "2c7yaYsu    5.1      4\n",
      "036RA      13.285    5\n",
      "ABV5nb     15.0      6\n",
      "h63ITo7H    3.833    7\n",
      "2Kyg98      7.3      8\n",
      "0uTSVwf    12.666    9\n",
      "nu4TiL     22.0     10\n",
      "\n"
     ]
    }
   ],
   "source": [
    "print_arr(x, n_decimals = 3, col_aligns = '< > >')"
   ]
  },
  {
   "cell_type": "code",
   "execution_count": 49,
   "metadata": {},
   "outputs": [],
   "source": [
    "from pyscripts.woodcut import print_pairtable\n",
    "from pyscripts.zfc import triangle_num, triangle_num_inv"
   ]
  },
  {
   "cell_type": "code",
   "execution_count": 50,
   "metadata": {},
   "outputs": [],
   "source": [
    "n = 5"
   ]
  },
  {
   "cell_type": "code",
   "execution_count": 51,
   "metadata": {},
   "outputs": [
    {
     "data": {
      "text/plain": [
       "15"
      ]
     },
     "execution_count": 51,
     "metadata": {},
     "output_type": "execute_result"
    }
   ],
   "source": [
    "triangle_num(n)"
   ]
  },
  {
   "cell_type": "code",
   "execution_count": 52,
   "metadata": {},
   "outputs": [],
   "source": [
    "x = r_ints(15)"
   ]
  },
  {
   "cell_type": "code",
   "execution_count": 53,
   "metadata": {},
   "outputs": [
    {
     "name": "stdout",
     "output_type": "stream",
     "text": [
      "     1   2    3    4    5\n",
      "1   10   8   10   -7   -5\n",
      "2    .   9   -9   10    5\n",
      "3    .   .    8    2   -6\n",
      "4    .   .    .    1   -1\n",
      "5    .   .    .    .   -6\n",
      "\n"
     ]
    }
   ],
   "source": [
    "print_pairtable(x, names=seq(1,n))"
   ]
  },
  {
   "cell_type": "code",
   "execution_count": null,
   "metadata": {},
   "outputs": [],
   "source": []
  }
 ],
 "metadata": {
  "kernelspec": {
   "display_name": "Python 3",
   "language": "python",
   "name": "python3"
  },
  "language_info": {
   "codemirror_mode": {
    "name": "ipython",
    "version": 3
   },
   "file_extension": ".py",
   "mimetype": "text/x-python",
   "name": "python",
   "nbconvert_exporter": "python",
   "pygments_lexer": "ipython3",
   "version": "3.6.3"
  }
 },
 "nbformat": 4,
 "nbformat_minor": 2
}
